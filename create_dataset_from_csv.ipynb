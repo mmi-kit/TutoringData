{
 "cells": [
  {
   "cell_type": "code",
   "execution_count": 1,
   "id": "46a66874",
   "metadata": {},
   "outputs": [],
   "source": [
    "import csv\n",
    "import numpy as np\n",
    "import glob\n",
    "import json\n",
    "import os\n",
    "from collections import OrderedDict as dic\n",
    "\n",
    "annotation_dir = \"./annotation_data\"\n",
    "annotation1_path = os.path.join(annotation_dir, \"annotation1\")\n",
    "annotation2_path = os.path.join(annotation_dir, \"annotation2\")\n",
    "annotation3_path = os.path.join(annotation_dir, \"annotation3\")\n",
    "\n",
    "save_path = \"./zyouhou1_hatsumon.json\""
   ]
  },
  {
   "cell_type": "code",
   "execution_count": 2,
   "id": "f39905f6",
   "metadata": {},
   "outputs": [],
   "source": [
    "def load_data(annotation_dir: str) -> np.ndarray:\n",
    "    \n",
    "    datas = []\n",
    "    files = glob.glob(annotation_dir + \"/*\") #各アノテーションファイルpair*-*を取得\n",
    "\n",
    "    for file in files:\n",
    "        data = get_data_from_file(file)\n",
    "        datas.extend(data)\n",
    "        \n",
    "    np_datas = np.empty((len(datas), len(datas[0])), dtype = object)\n",
    "    np_datas[:] = datas\n",
    "        \n",
    "    return np_datas   # datas[i] = [question_number, question, model_ans, question_type, edu_ans, label, , , ]"
   ]
  },
  {
   "cell_type": "code",
   "execution_count": 3,
   "id": "3354b1d5",
   "metadata": {},
   "outputs": [],
   "source": [
    "def get_data_from_file(file_path: str) -> list:\n",
    "    with open(file_path, \"r\") as f:\n",
    "        pair = csv.reader(f)\n",
    "        data = [p for p in pair]\n",
    "        data = data[2:]       #最初の2行は省く\n",
    "        \n",
    "        return data"
   ]
  },
  {
   "cell_type": "code",
   "execution_count": 4,
   "id": "7ea601c1",
   "metadata": {},
   "outputs": [],
   "source": [
    "def str_label_to_int(str_label: str) -> int:\n",
    "    int_label = int(str_label.split(\":\")[1].replace(\" \", \"\"))\n",
    "    return int_label"
   ]
  },
  {
   "cell_type": "code",
   "execution_count": 5,
   "id": "306b002e",
   "metadata": {},
   "outputs": [],
   "source": [
    "def add_one_to_label_match_matrix(i_label_match_matrix: np.ndarray, labels: np.ndarray) -> np.ndarray:\n",
    "    labels = labels - 1     # label: 1~7, index : 0~6\n",
    "    labels = labels.tolist()\n",
    "    \n",
    "    for l in labels:\n",
    "        i_label_match_matrix[l] += 1\n",
    "    return i_label_match_matrix"
   ]
  },
  {
   "cell_type": "code",
   "execution_count": 6,
   "id": "17a51eeb",
   "metadata": {},
   "outputs": [],
   "source": [
    "def label_match_matrix(annotation_datas: np.ndarray) -> np.ndarray:\n",
    "    \n",
    "    # annotation_data = [num_annotator, num_data, ]\n",
    "    \n",
    "    n_datas = annotation_datas.shape[1]  #n_datas = 450\n",
    "    n_labels = 7\n",
    "    label_match_matrix = np.zeros((n_datas, n_labels), dtype = int)\n",
    "    \n",
    "    labels = annotation_datas[:, :, 5].T   # shape[n_datas, num_annotator]\n",
    "    convert_str_to_int = np.frompyfunc(str_label_to_int, 1, 1)\n",
    "    labels = convert_str_to_int(labels)\n",
    "    \n",
    "    for i in range(label_match_matrix.shape[0]):\n",
    "        label_match_matrix[i] = add_one_to_label_match_matrix(label_match_matrix[i], labels[i])\n",
    "    \n",
    "    return label_match_matrix"
   ]
  },
  {
   "cell_type": "code",
   "execution_count": 7,
   "id": "5655c160",
   "metadata": {},
   "outputs": [],
   "source": [
    "def compute_fleiss_kappa(label_match_matrix: np.ndarray, num_annotator: int) -> None:\n",
    "    \n",
    "    \n",
    "    label_match_matrix = label_match_matrix.tolist()\n",
    "    \n",
    "    N = len(label_match_matrix)\n",
    "    k = len(label_match_matrix[0])\n",
    "    # 入力された情報の確認\n",
    "    print('評価者の数 = {}'.format(num_annotator))\n",
    "    print('評価対象の数 = {}'.format(N))\n",
    "    print('評価カテゴリー数 = {}'.format(k))\n",
    "\n",
    "    # Piの値を求めて，P_barを求める\n",
    "    P_bar = sum([(sum([el**2 for el in row]) - num_annotator) / (num_annotator * (num_annotator - 1)) for row in label_match_matrix]) / N\n",
    "    print('P_bar  = {}'.format(P_bar))\n",
    "\n",
    "    # pjの値を求めて，Pe_barを求める\n",
    "    Pe_bar = sum([(sum([row[j] for row in label_match_matrix]) / (N * num_annotator)) ** 2 for j in range(k)])\n",
    "    print('Pe_bar  = {}'.format(Pe_bar))\n",
    "\n",
    "    # fleiss kappa値の計算\n",
    "    kappa = float(0)\n",
    "    try:\n",
    "        kappa = (P_bar - Pe_bar) / (1 - Pe_bar)\n",
    "    except ZeroDivisionError:\n",
    "        kappa = float(1)\n",
    "\n",
    "    print(\"kappa = {}\".format(kappa))\n",
    "    \n",
    "    if kappa < 0:\n",
    "        print(\"一致していない\")\n",
    "    elif kappa <= 0.20:\n",
    "        print(\"わずかに一致\")\n",
    "    elif kappa <= 0.40:\n",
    "        print(\"だいたい一致\")\n",
    "    elif kappa <= 0.60:\n",
    "        print(\"適度に一致\")\n",
    "    elif kappa <= 0.80:\n",
    "        print(\"かなり一致\")\n",
    "    elif kappa <= 1.00:\n",
    "        print(\"ほとんど一致\")"
   ]
  },
  {
   "cell_type": "code",
   "execution_count": 40,
   "id": "4960bb28",
   "metadata": {},
   "outputs": [],
   "source": [
    "def label_majority_vote(hatsumon_pair: np.ndarray, label_match_matrix: np.ndarray) -> np.ndarray:\n",
    "    # hatsumon_pair[i] = [question_number, question, model_ans, edu_ans]\n",
    "    \n",
    "    majority_vote = np.argmax(label_match_matrix, axis=1)\n",
    "    majority_vote = majority_vote.reshape(majority_vote.shape[0], 1) + 1 # index: 0~6 label: 1~7\n",
    "    \n",
    "    hatsumon_pair = np.hstack((hatsumon_pair, majority_vote))\n",
    "    \n",
    "    return hatsumon_pair"
   ]
  },
  {
   "cell_type": "code",
   "execution_count": 46,
   "id": "9462b2a2",
   "metadata": {},
   "outputs": [],
   "source": [
    "def create_dataset(np_hatsumon_pair: np.ndarray)  -> dict:\n",
    "    chap = 1\n",
    "    gakusyuu = 1\n",
    "    num_hatsumon = 1\n",
    "\n",
    "    dataset = dic()\n",
    "    \n",
    "    for g in range(gakusyuu, 25):\n",
    "        gakusyu_index = \"Study\" + str(g)\n",
    "        if g == 6:\n",
    "            chap += 1\n",
    "        elif g == 11:\n",
    "            chap += 1\n",
    "        elif g == 18:\n",
    "            chap += 1\n",
    "    \n",
    "        dataset[gakusyu_index] = dic()\n",
    "        \n",
    "        for h in range(num_hatsumon, 6):\n",
    "            index = str(chap)+\"-\"+str(g)+\"-\"+str(h)\n",
    "            data = [d for d in np_hatsumon_pair if d[0] == index]\n",
    "            \n",
    "            hatsumon_pair = dic()\n",
    "            hatsumon_pair[\"question\"] = data[0][1]\n",
    "            hatsumon_pair[\"model_ans\"] = data[0][2]\n",
    "            edu_anss = [{\"ans\": d[3], \"label\": d[4]} for d in data]\n",
    "            hatsumon_pair[\"edu_ans\"] = edu_anss\n",
    "            q_index = \"Question\" + str(h)\n",
    "            dataset[gakusyu_index][q_index] = hatsumon_pair\n",
    "            \n",
    "    return dataset"
   ]
  },
  {
   "cell_type": "code",
   "execution_count": null,
   "id": "a82ad76c",
   "metadata": {},
   "outputs": [],
   "source": [
    "def write_json(dataset: dict, save_path: str):\n",
    "    with open(save_path, \"x\") as f:\n",
    "        json.dump(dataset, f)"
   ]
  },
  {
   "cell_type": "code",
   "execution_count": null,
   "id": "c6b2d355",
   "metadata": {},
   "outputs": [],
   "source": [
    "def main():\n",
    "    \n",
    "    if os.path.exists(save_path):\n",
    "        print(\"Already exists zyouhou1 json data\")\n",
    "    else:\n",
    "        \n",
    "        print(\" Create json data from dir = {}\".format(annotation_dir))\n",
    "\n",
    "        anotation1 = load_data(annotation1_path)\n",
    "        anotation2 = load_data(annotation2_path)\n",
    "        anotation3 = load_data(annotation3_path)\n",
    "\n",
    "        annotation_datas = np.empty((3,anotation1.shape[0], anotation1.shape[1]), dtype = object)\n",
    "        annotation_datas[0]  = anotation1\n",
    "        annotation_datas[1]  = anotation2\n",
    "        annotation_datas[2]  = anotation3\n",
    "\n",
    "        hatsumon_pair = np.empty((annotation_datas.shape[1], 4), dtype = object)\n",
    "        hatsumon_pair[:, 0] = anotation1[:, 0]\n",
    "        hatsumon_pair[:, 1] = anotation1[:, 1]\n",
    "        hatsumon_pair[:, 2] = anotation1[:, 2]\n",
    "        hatsumon_pair[:, 3] = anotation1[:, 4]\n",
    "\n",
    "        label_matrix = label_match_matrix(annotation_datas)\n",
    "        compute_fleiss_kappa(label_matrix, num_annotator=3)\n",
    "\n",
    "        np_dataset = label_majority_vote(hatsumon_pair, label_matrix)\n",
    "        dataset = create_dataset(np_dataset)\n",
    "\n",
    "        write_json(dataset, save_path)\n",
    "\n",
    "        print(\"Complete\")"
   ]
  },
  {
   "cell_type": "code",
   "execution_count": null,
   "id": "2bbe7bf4",
   "metadata": {},
   "outputs": [],
   "source": [
    "if __name__ == \"__main__\":\n",
    "    main()"
   ]
  }
 ],
 "metadata": {
  "kernelspec": {
   "display_name": "nlp",
   "language": "python",
   "name": "nlp"
  },
  "language_info": {
   "codemirror_mode": {
    "name": "ipython",
    "version": 3
   },
   "file_extension": ".py",
   "mimetype": "text/x-python",
   "name": "python",
   "nbconvert_exporter": "python",
   "pygments_lexer": "ipython3",
   "version": "3.8.11"
  },
  "varInspector": {
   "cols": {
    "lenName": 16,
    "lenType": 16,
    "lenVar": 40
   },
   "kernels_config": {
    "python": {
     "delete_cmd_postfix": "",
     "delete_cmd_prefix": "del ",
     "library": "var_list.py",
     "varRefreshCmd": "print(var_dic_list())"
    },
    "r": {
     "delete_cmd_postfix": ") ",
     "delete_cmd_prefix": "rm(",
     "library": "var_list.r",
     "varRefreshCmd": "cat(var_dic_list()) "
    }
   },
   "types_to_exclude": [
    "module",
    "function",
    "builtin_function_or_method",
    "instance",
    "_Feature"
   ],
   "window_display": false
  }
 },
 "nbformat": 4,
 "nbformat_minor": 5
}
